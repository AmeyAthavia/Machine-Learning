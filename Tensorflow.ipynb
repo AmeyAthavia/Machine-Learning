{
 "cells": [
  {
   "cell_type": "code",
   "execution_count": 189,
   "metadata": {},
   "outputs": [],
   "source": [
    "import tensorflow as tp"
   ]
  },
  {
   "cell_type": "markdown",
   "metadata": {},
   "source": [
    "### Custom Graph"
   ]
  },
  {
   "cell_type": "code",
   "execution_count": 190,
   "metadata": {},
   "outputs": [],
   "source": [
    "custom_graph = tp.Graph()"
   ]
  },
  {
   "cell_type": "code",
   "execution_count": 191,
   "metadata": {},
   "outputs": [],
   "source": [
    "with custom_graph.as_default():\n",
    "    \n",
    "    X = tp.constant(10,dtype = tp.float32,name='x')\n",
    "    y = tp.constant(20,dtype=tp.float32,name='y')\n",
    "    sub_xy = y-X"
   ]
  },
  {
   "cell_type": "code",
   "execution_count": 192,
   "metadata": {},
   "outputs": [],
   "source": [
    "with custom_graph.as_default():\n",
    "    with tp.Session() as sess:\n",
    "        result = sub_xy.eval()"
   ]
  },
  {
   "cell_type": "code",
   "execution_count": 193,
   "metadata": {},
   "outputs": [
    {
     "data": {
      "text/plain": [
       "10.0"
      ]
     },
     "execution_count": 193,
     "metadata": {},
     "output_type": "execute_result"
    }
   ],
   "source": [
    "result"
   ]
  },
  {
   "cell_type": "markdown",
   "metadata": {},
   "source": [
    "## Placeholders"
   ]
  },
  {
   "cell_type": "code",
   "execution_count": 194,
   "metadata": {},
   "outputs": [],
   "source": [
    "tp.reset_default_graph()"
   ]
  },
  {
   "cell_type": "code",
   "execution_count": 195,
   "metadata": {},
   "outputs": [],
   "source": [
    "x = tp.placeholder(dtype=tp.float32,shape=[None,None],name='x')\n",
    "y = tp.placeholder(dtype=tp.float32,shape=[None,None],name='y')"
   ]
  },
  {
   "cell_type": "code",
   "execution_count": 196,
   "metadata": {},
   "outputs": [],
   "source": [
    "mul_xy = tp.matmul(x,y)"
   ]
  },
  {
   "cell_type": "code",
   "execution_count": 197,
   "metadata": {},
   "outputs": [],
   "source": [
    "var1 = tp.Variable(0, dtype=tp.float32, name='var1')"
   ]
  },
  {
   "cell_type": "code",
   "execution_count": 198,
   "metadata": {},
   "outputs": [],
   "source": [
    "#Graph must have atleast 1 variable\n",
    "saver = tp.train.Saver()\n",
    "init = tp.global_variables_initializer()"
   ]
  },
  {
   "cell_type": "code",
   "execution_count": 199,
   "metadata": {},
   "outputs": [],
   "source": [
    "with tp.Session() as sess:\n",
    "    init.run()\n",
    "    result = mul_xy.eval(feed_dict={x:[[1,2],[3,4]],y:[[10],[20]]})\n",
    "    saver.save(sess, './default_graph.ckpt')"
   ]
  },
  {
   "cell_type": "code",
   "execution_count": 200,
   "metadata": {},
   "outputs": [
    {
     "data": {
      "text/plain": [
       "array([[ 50.],\n",
       "       [110.]], dtype=float32)"
      ]
     },
     "execution_count": 200,
     "metadata": {},
     "output_type": "execute_result"
    }
   ],
   "source": [
    "result"
   ]
  },
  {
   "cell_type": "markdown",
   "metadata": {},
   "source": [
    "## Problem Statement\n",
    "    *Create 2 placew holders(X,Y) whuch takes Squared matrix of any shape as an input and perform following operations\n",
    "        result1 = X+Y-X*Y\n",
    "        result2 = X*Y +Y*X -X*X\n",
    "        \n",
    "        \n",
    "### Level:Intermediate 1\n",
    "    Create a node 'n as a placeholder, using which print the fibonacci sequence upto thew nth element\n",
    "    \n",
    "### Level:Intermediate 2\n",
    "    create a place holder, which takes a 1D array and create another placeholder which takes a number **n** \n",
    "    find all possible ways to get n by summing upto some subset from the array\n",
    "        ARR = [1,2,3,4,5]\n",
    "        n = 10\n",
    "        results = 1+2+3+4\n",
    "                  1+4+5\n",
    "                  2+3+5\n",
    "                  \n",
    "    Hints-:\n",
    "        Array must be sorted\n",
    "        Backward approach\n",
    "            * rather than adding tyr substracting\n",
    "        Time complexity = n^2,n.log(n)"
   ]
  },
  {
   "cell_type": "code",
   "execution_count": 201,
   "metadata": {},
   "outputs": [],
   "source": [
    "tp.reset_default_graph()\n",
    "x = tp.placeholder(dtype=tp.float32,shape=[None,None],name='x')\n",
    "y = tp.placeholder(dtype=tp.float32,shape=[None,None],name='y')"
   ]
  },
  {
   "cell_type": "code",
   "execution_count": 202,
   "metadata": {},
   "outputs": [],
   "source": [
    "mul_xy = tp.matmul(x,y)\n",
    "sum_xy = tp.add(x,y)\n",
    "sub_xy = tp.subtract(sum_xy,mul_xy)"
   ]
  },
  {
   "cell_type": "code",
   "execution_count": 203,
   "metadata": {},
   "outputs": [],
   "source": [
    "var1 = tp.Variable(0, dtype=tp.float32, name='var1')\n",
    "#Graph must have atleast 1 variable\n",
    "saver = tp.train.Saver()\n",
    "init = tp.global_variables_initializer()\n",
    "with tp.Session() as sess:\n",
    "    init.run()\n",
    "    result_a = mul_xy.eval(feed_dict={x:[[1,2],[3,4]],y:[[5,6],[7,8]]})\n",
    "    result_b = sum_xy.eval(feed_dict={x:[[1,2],[3,4]],y:[[5,6],[7,8]]})\n",
    "    result_c = sub_xy.eval(feed_dict={x:[[1,2],[3,4]],y:[[5,6],[7,8]]})\n",
    "    \n",
    "    saver.save(sess, './default_graph.ckpt')"
   ]
  },
  {
   "cell_type": "code",
   "execution_count": 204,
   "metadata": {},
   "outputs": [
    {
     "data": {
      "text/plain": [
       "array([[-13., -14.],\n",
       "       [-33., -38.]], dtype=float32)"
      ]
     },
     "execution_count": 204,
     "metadata": {},
     "output_type": "execute_result"
    }
   ],
   "source": [
    "result_c"
   ]
  },
  {
   "cell_type": "code",
   "execution_count": 205,
   "metadata": {},
   "outputs": [],
   "source": [
    "tp.reset_default_graph()\n",
    "x = tp.placeholder(dtype=tp.float32,shape=[None,None],name='x')\n",
    "y = tp.placeholder(dtype=tp.float32,shape=[None,None],name='y')"
   ]
  },
  {
   "cell_type": "code",
   "execution_count": 206,
   "metadata": {},
   "outputs": [],
   "source": [
    "mul_xy = tp.matmul(x,y)\n",
    "mul_yx = tp.matmul(y,x)\n",
    "mul_xx = tp.matmul(x,x)\n",
    "add_mat = tp.add(mul_xy,mul_yx)\n",
    "sub_mat = tp.subtract(add_mat,mul_xx)"
   ]
  },
  {
   "cell_type": "code",
   "execution_count": 207,
   "metadata": {},
   "outputs": [],
   "source": [
    "var1 = tp.Variable(0, dtype=tp.float32, name='var1')\n",
    "\n",
    "with tp.Session() as sess:\n",
    "    reslt2 = sub_mat.eval(feed_dict = {x:[[1,2],[3,4]],y:[[5,6],[7,8]]})   "
   ]
  },
  {
   "cell_type": "code",
   "execution_count": 208,
   "metadata": {},
   "outputs": [
    {
     "data": {
      "text/plain": [
       "array([[35., 46.],\n",
       "       [59., 74.]], dtype=float32)"
      ]
     },
     "execution_count": 208,
     "metadata": {},
     "output_type": "execute_result"
    }
   ],
   "source": [
    "reslt2"
   ]
  },
  {
   "cell_type": "code",
   "execution_count": 218,
   "metadata": {},
   "outputs": [],
   "source": [
    "tp.reset_default_graph()\n",
    "x = tp.Variable(0)\n",
    "y = tp.Variable(1)\n",
    "c = tp.Variable(0)"
   ]
  },
  {
   "cell_type": "code",
   "execution_count": 219,
   "metadata": {},
   "outputs": [],
   "source": [
    "sum_xy = x+y\n",
    "new_var = tp.assign(c,sum_xy)\n",
    "update1 = tp.assign(x,y)\n",
    "update2 = tp.assign(y,c)"
   ]
  },
  {
   "cell_type": "code",
   "execution_count": 220,
   "metadata": {},
   "outputs": [
    {
     "name": "stdout",
     "output_type": "stream",
     "text": [
      "0 1\n",
      "1\n",
      "2\n",
      "3\n",
      "5\n",
      "8\n",
      "13\n",
      "21\n",
      "34\n",
      "55\n",
      "89\n"
     ]
    }
   ],
   "source": [
    "init = tp.global_variables_initializer()\n",
    "with tp.Session() as s:\n",
    "    init.run()\n",
    "    x = x.eval()\n",
    "    y = y.eval()\n",
    "    print(x,y)\n",
    "    for i in range(0,10):\n",
    "        x_new = new_var.eval()\n",
    "        print(x_new)\n",
    "      #  sum_xy = x+y\n",
    "        up1_new = update1.eval()\n",
    "        up2_new = update2.eval()\n",
    "    #    add_new = add_var.eval()\n",
    "        "
   ]
  },
  {
   "cell_type": "code",
   "execution_count": null,
   "metadata": {},
   "outputs": [],
   "source": []
  }
 ],
 "metadata": {
  "kernelspec": {
   "display_name": "Python 3",
   "language": "python",
   "name": "python3"
  },
  "language_info": {
   "codemirror_mode": {
    "name": "ipython",
    "version": 3
   },
   "file_extension": ".py",
   "mimetype": "text/x-python",
   "name": "python",
   "nbconvert_exporter": "python",
   "pygments_lexer": "ipython3",
   "version": "3.7.1"
  }
 },
 "nbformat": 4,
 "nbformat_minor": 2
}
